{
  "nbformat": 4,
  "nbformat_minor": 0,
  "metadata": {
    "colab": {
      "provenance": [],
      "authorship_tag": "ABX9TyO5VSusIN9IHAwz88FOwOB+",
      "include_colab_link": true
    },
    "kernelspec": {
      "name": "python3",
      "display_name": "Python 3"
    },
    "language_info": {
      "name": "python"
    }
  },
  "cells": [
    {
      "cell_type": "markdown",
      "metadata": {
        "id": "view-in-github",
        "colab_type": "text"
      },
      "source": [
        "<a href=\"https://colab.research.google.com/github/baddipudiPrasanth/Python-dsa-/blob/main/ArrayProblems.ipynb\" target=\"_parent\"><img src=\"https://colab.research.google.com/assets/colab-badge.svg\" alt=\"Open In Colab\"/></a>"
      ]
    },
    {
      "cell_type": "markdown",
      "source": [
        "**Find the Largest element in an array**\n",
        "\n"
      ],
      "metadata": {
        "id": "ZoTbkGGUIvqS"
      }
    },
    {
      "cell_type": "code",
      "execution_count": 60,
      "metadata": {
        "id": "xmLAwZJWIlPC"
      },
      "outputs": [],
      "source": [
        "L = [2,5,1,3,0]\n"
      ]
    },
    {
      "cell_type": "markdown",
      "source": [
        "bruteforce"
      ],
      "metadata": {
        "id": "V33FDUHTJMkI"
      }
    },
    {
      "cell_type": "code",
      "source": [
        "len(L)\n",
        "L.sort()\n",
        "L[-1]"
      ],
      "metadata": {
        "colab": {
          "base_uri": "https://localhost:8080/"
        },
        "id": "9rkb7RjZI-Hp",
        "outputId": "e7495944-37b6-4285-c952-30cc4d4d3d77"
      },
      "execution_count": 65,
      "outputs": [
        {
          "output_type": "execute_result",
          "data": {
            "text/plain": [
              "5"
            ]
          },
          "metadata": {},
          "execution_count": 65
        }
      ]
    },
    {
      "cell_type": "markdown",
      "source": [
        "recursive/another approach"
      ],
      "metadata": {
        "id": "ToSSNChrMzq2"
      }
    },
    {
      "cell_type": "code",
      "source": [
        "Max=L[0]\n",
        "\n",
        "for i in range(len(L)):\n",
        "    if Max < L[i]:\n",
        "        Max=L[i]\n",
        "    else:\n",
        "        Max=Max\n",
        "print(Max)\n"
      ],
      "metadata": {
        "colab": {
          "base_uri": "https://localhost:8080/"
        },
        "id": "46KuMay5JJG7",
        "outputId": "246fb988-6cb8-4abf-ac3b-42b542e98514"
      },
      "execution_count": 62,
      "outputs": [
        {
          "output_type": "stream",
          "name": "stdout",
          "text": [
            "5\n"
          ]
        }
      ]
    },
    {
      "cell_type": "markdown",
      "source": [
        "**Second Largest Element in an Array without sorting**"
      ],
      "metadata": {
        "id": "W78Fm2KzM_ea"
      }
    },
    {
      "cell_type": "markdown",
      "source": [
        "Bruteforce"
      ],
      "metadata": {
        "id": "9kRIWQXpNBYB"
      }
    },
    {
      "cell_type": "code",
      "source": [
        "L = [2,5,1,3,0]\n",
        "L.sort()\n",
        "L[-2]\n",
        "\n"
      ],
      "metadata": {
        "colab": {
          "base_uri": "https://localhost:8080/"
        },
        "id": "5pLL22aaNL15",
        "outputId": "c8744a5b-a021-4e82-eb50-4dfe1081af2a"
      },
      "execution_count": 67,
      "outputs": [
        {
          "output_type": "execute_result",
          "data": {
            "text/plain": [
              "3"
            ]
          },
          "metadata": {},
          "execution_count": 67
        }
      ]
    },
    {
      "cell_type": "markdown",
      "source": [
        "Better **approach**"
      ],
      "metadata": {
        "id": "2AHu5VQKWRcr"
      }
    },
    {
      "cell_type": "code",
      "source": [
        "A = [1,3,4,7,5,7]\n",
        "larg=-1\n",
        "for i in range(len(A)):\n",
        "    if larg < A[i]:\n",
        "        larg = A[i]\n",
        "print(larg)\n",
        "Larg2 = -1\n",
        "for j in range(len(A)):\n",
        "    if Larg2 < A[j] and A[j] < larg:\n",
        "        Larg2 = A[j]\n",
        "print(Larg2)\n",
        "\n"
      ],
      "metadata": {
        "id": "fOWDk3UEJx4I",
        "colab": {
          "base_uri": "https://localhost:8080/"
        },
        "outputId": "65f72e5c-198f-4f18-ee9c-ff4986a90fbc"
      },
      "execution_count": 68,
      "outputs": [
        {
          "output_type": "stream",
          "name": "stdout",
          "text": [
            "7\n",
            "5\n"
          ]
        }
      ]
    },
    {
      "cell_type": "code",
      "source": [],
      "metadata": {
        "id": "P2GqVOgzN-Rh"
      },
      "execution_count": null,
      "outputs": []
    }
  ]
}